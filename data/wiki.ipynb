{
 "cells": [
  {
   "cell_type": "code",
   "execution_count": 4,
   "metadata": {},
   "outputs": [],
   "source": [
    "import re\n",
    "import json\n",
    "import string\n",
    "import tqdm\n",
    "import pandas as pd\n",
    "\n",
    "from datasets import load_from_disk, Dataset, DatasetDict\n",
    "\n",
    "with open(\"./data/wikipedia_documents.json\", 'r', encoding='utf-8') as f:\n",
    "    wiki_json = json.load(f)\n",
    "\n",
    "wiki_df = pd.DataFrame(list(wiki_json.values()))\n",
    "\n",
    "with open(\"./data/KorQuAD/KorQuAD_v1.0_train.json\", 'r', encoding='utf-8') as f:\n",
    "    train_json = json.load(f)\n",
    "\n",
    "with open(\"./data/KorQuAD/KorQuAD_v1.0_dev.json\", 'r', encoding='utf-8') as f:\n",
    "    dev_json = json.load(f)\n",
    "\n",
    "text_json = {**train_json, **dev_json}"
   ]
  },
  {
   "cell_type": "code",
   "execution_count": 5,
   "metadata": {},
   "outputs": [
    {
     "data": {
      "text/plain": [
       "Index(['text', 'corpus_source', 'url', 'domain', 'title', 'author', 'html',\n",
       "       'document_id'],\n",
       "      dtype='object')"
      ]
     },
     "execution_count": 5,
     "metadata": {},
     "output_type": "execute_result"
    }
   ],
   "source": [
    "wiki_df.keys()"
   ]
  },
  {
   "cell_type": "code",
   "execution_count": 7,
   "metadata": {},
   "outputs": [],
   "source": [
    "def flattenList(nested_list):\n",
    "    flat_list = []\n",
    "    for sublist in nested_list:\n",
    "        for item in sublist:\n",
    "            flat_list.append(item)\n",
    "    return flat_list\n",
    "\n",
    "special_characters = re.escape(string.punctuation)\n",
    "\n",
    "def getOtherCharacters(text):\n",
    "    text = re.sub(r\"[가-힣ㄱ-ㅎㅏ-ㅣA-Za-z0-9一-龥ぁ-ゔァ-ヴー々〆〤 ]\", \"\", text)\n",
    "    text = re.sub(f'[{special_characters}]', \"\", text)\n",
    "    text = re.sub(r\"[≪≫《》〈〉＜＞「」『』‘’“”・·°∧­ćä]\", \"\", text)\n",
    "    text = re.sub(r\"[\\*\\#]+\", \"\",text) # 특수기호 '*', '#'  \n",
    "    return text\n",
    "\n",
    "other_characters = [getOtherCharacters(it) for it in wiki_df['text']]\n",
    "other_characters = set(flattenList(other_characters))\n",
    "other_characters = (''.join(other_characters))"
   ]
  },
  {
   "cell_type": "code",
   "execution_count": 8,
   "metadata": {},
   "outputs": [],
   "source": [
    "def removeOtherCharacters(text):\n",
    "    text = re.sub(f'[{other_characters}]', \"\", text)\n",
    "    text = text.replace('\\\\n', ' ').replace('\\n', ' ')\n",
    "    text = ' '.join(text.split())\n",
    "    return text"
   ]
  },
  {
   "cell_type": "code",
   "execution_count": 9,
   "metadata": {},
   "outputs": [
    {
     "name": "stderr",
     "output_type": "stream",
     "text": [
      "  0%|          | 0/60613 [00:00<?, ?it/s]"
     ]
    },
    {
     "name": "stderr",
     "output_type": "stream",
     "text": [
      "100%|██████████| 60613/60613 [00:08<00:00, 6903.45it/s]\n"
     ]
    }
   ],
   "source": [
    "for key in tqdm.tqdm(wiki_json.keys()):\n",
    "    wiki_json[key]['text'] = removeOtherCharacters(wiki_json[key]['text'])"
   ]
  },
  {
   "cell_type": "code",
   "execution_count": 10,
   "metadata": {},
   "outputs": [],
   "source": [
    "wiki_df = pd.DataFrame(list(wiki_json.values()))\n",
    "wiki_df.drop_duplicates(subset=['text'], keep='first', inplace=True)\n",
    "wiki_df.to_json('./data/wikipedia_preprocessed.json', orient='index')"
   ]
  }
 ],
 "metadata": {
  "kernelspec": {
   "display_name": "base",
   "language": "python",
   "name": "python3"
  },
  "language_info": {
   "codemirror_mode": {
    "name": "ipython",
    "version": 3
   },
   "file_extension": ".py",
   "mimetype": "text/x-python",
   "name": "python",
   "nbconvert_exporter": "python",
   "pygments_lexer": "ipython3",
   "version": "3.10.13"
  }
 },
 "nbformat": 4,
 "nbformat_minor": 2
}
