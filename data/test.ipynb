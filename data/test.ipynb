{
 "cells": [
  {
   "cell_type": "code",
   "execution_count": 23,
   "metadata": {},
   "outputs": [],
   "source": [
    "import re\n",
    "import json\n",
    "import string\n",
    "import pandas as pd\n",
    "\n",
    "from datasets import load_from_disk, Dataset, DatasetDict\n",
    "\n",
    "test_dataset = load_from_disk(\"./data/test_dataset/\")\n",
    "test_df = pd.DataFrame(test_dataset['validation'])\n",
    "\n",
    "with open(\"./data/wikipedia_documents.json\", 'r', encoding='utf-8') as f:\n",
    "    wiki_json = json.load(f)\n",
    "wiki_df = pd.DataFrame(list(wiki_json.values()))\n"
   ]
  },
  {
   "cell_type": "code",
   "execution_count": 24,
   "metadata": {},
   "outputs": [],
   "source": [
    "def flattenList(nested_list):\n",
    "    flat_list = []\n",
    "    for sublist in nested_list:\n",
    "        for item in sublist:\n",
    "            flat_list.append(item)\n",
    "    return flat_list\n",
    "\n",
    "special_characters = re.escape(string.punctuation)\n",
    "\n",
    "def getOtherCharacters(text):\n",
    "    text = re.sub(r\"[가-힣ㄱ-ㅎㅏ-ㅣA-Za-z0-9一-龥ぁ-ゔァ-ヴー々〆〤 ]\", \"\", text)\n",
    "    text = re.sub(f'[{special_characters}]', \"\", text)\n",
    "    text = re.sub(r\"[≪≫《》〈〉＜＞「」『』‘’“”・·°∧­ćä]\", \"\", text)\n",
    "    text = re.sub(r\"[\\*\\#]+\", \"\",text) # 특수기호 '*', '#'  \n",
    "    return text\n",
    "\n",
    "other_characters = [getOtherCharacters(it) for it in wiki_df['text']]\n",
    "other_characters = set(flattenList(other_characters))\n",
    "other_characters = (''.join(other_characters))"
   ]
  },
  {
   "cell_type": "code",
   "execution_count": 25,
   "metadata": {},
   "outputs": [],
   "source": [
    "def removeOtherCharacters(row):\n",
    "    question = test_df['question'][row]\n",
    "\n",
    "    question = re.sub(f'[{other_characters}]', \"\", question)\n",
    "    question = question.replace('\\\\n', ' ').replace('\\n', ' ')\n",
    "    question = ' '.join(question.split())\n",
    "\n",
    "    test_df.loc[row, 'question'] = question"
   ]
  },
  {
   "cell_type": "code",
   "execution_count": 26,
   "metadata": {},
   "outputs": [],
   "source": [
    "for row in test_df.itertuples():\n",
    "    i = row.Index\n",
    "    removeOtherCharacters(i)"
   ]
  },
  {
   "cell_type": "code",
   "execution_count": 27,
   "metadata": {},
   "outputs": [
    {
     "name": "stderr",
     "output_type": "stream",
     "text": [
      "Saving the dataset (1/1 shards): 100%|██████████| 600/600 [00:00<00:00, 156038.10 examples/s]\n"
     ]
    }
   ],
   "source": [
    "test_dataset = Dataset.from_dict(test_df)\n",
    "dataset = DatasetDict({\"validation\":test_dataset})\n",
    "\n",
    "dataset.save_to_disk(\"./data/test_preprocessed/\")"
   ]
  }
 ],
 "metadata": {
  "kernelspec": {
   "display_name": "base",
   "language": "python",
   "name": "python3"
  },
  "language_info": {
   "codemirror_mode": {
    "name": "ipython",
    "version": 3
   },
   "file_extension": ".py",
   "mimetype": "text/x-python",
   "name": "python",
   "nbconvert_exporter": "python",
   "pygments_lexer": "ipython3",
   "version": "3.10.13"
  }
 },
 "nbformat": 4,
 "nbformat_minor": 2
}
