{
 "cells": [
  {
   "cell_type": "code",
   "execution_count": 71,
   "metadata": {},
   "outputs": [],
   "source": [
    "import json\n",
    "import re\n",
    "import string\n",
    "import pandas as pd\n",
    "\n",
    "from datasets import load_from_disk, Dataset, DatasetDict\n",
    "\n",
    "train_dataset = load_from_disk(\"./data/train_dataset/\")\n",
    "train_df = pd.DataFrame(train_dataset['train'])\n",
    "dev_df = pd.DataFrame(train_dataset['validation']) \n",
    "\n",
    "with open(\"./data/wikipedia_documents.json\", 'r', encoding='utf-8') as f:\n",
    "    wiki_json = json.load(f)\n",
    "wiki_df = pd.DataFrame(list(wiki_json.values()))\n",
    "\n",
    "with open(\"./data/KorQuAD_v1.0_train.json\", 'r', encoding='utf-8') as f:\n",
    "    train_json = json.load(f)\n",
    "\n",
    "with open(\"./data/KorQuAD_v1.0_dev.json\", 'r', encoding='utf-8') as f:\n",
    "    dev_json = json.load(f)"
   ]
  },
  {
   "cell_type": "code",
   "execution_count": 72,
   "metadata": {},
   "outputs": [],
   "source": [
    "def addDF(data, isTrain):\n",
    "    title = data['title']\n",
    "\n",
    "    for paragraph in data['paragraphs']:\n",
    "        context = paragraph['context']\n",
    "        qas = paragraph['qas']\n",
    "\n",
    "        for it in qas:\n",
    "            question = it['question']\n",
    "            id = it['id']\n",
    "            answers = {'answer_start': [it['answers'][0]['answer_start']], 'text': [it['answers'][0]['text']]}\n",
    "\n",
    "            df = pd.DataFrame({'title': title, 'context': context, 'question': question, 'id': id, 'answers': [answers], 'document_id': 0, '__index_level_0__': 0})\n",
    "            \n",
    "            global train_df, dev_df\n",
    "            if isTrain:\n",
    "                train_df = pd.concat([train_df, df], ignore_index=True)\n",
    "            else:\n",
    "                dev_df = pd.concat([dev_df, df], ignore_index=True)"
   ]
  },
  {
   "cell_type": "code",
   "execution_count": 73,
   "metadata": {},
   "outputs": [
    {
     "name": "stdout",
     "output_type": "stream",
     "text": [
      "(3952, 7) (240, 7)\n",
      "(64359, 7) (6014, 7)\n"
     ]
    }
   ],
   "source": [
    "print(train_df.shape, dev_df.shape)\n",
    "\n",
    "for row in train_json['data']:\n",
    "    addDF(row, True)\n",
    "    \n",
    "for row in dev_json['data']:\n",
    "    addDF(row, False)\n",
    "\n",
    "print(train_df.shape, dev_df.shape)"
   ]
  },
  {
   "cell_type": "code",
   "execution_count": 74,
   "metadata": {},
   "outputs": [],
   "source": [
    "def flattenList(nested_list):\n",
    "    flat_list = []\n",
    "    for sublist in nested_list:\n",
    "        for item in sublist:\n",
    "            flat_list.append(item)\n",
    "    return flat_list\n",
    "\n",
    "special_characters = re.escape(string.punctuation)\n",
    "\n",
    "def getOtherCharacters(text):\n",
    "    text = re.sub(r\"[가-힣ㄱ-ㅎㅏ-ㅣA-Za-z0-9一-龥ぁ-ゔァ-ヴー々〆〤 ]\", \"\", text)\n",
    "    text = re.sub(f'[{special_characters}]', \"\", text)\n",
    "    text = re.sub(r\"[≪≫《》〈〉＜＞「」『』‘’“”・·°∧­ćä]\", \"\", text)\n",
    "    text = re.sub(r\"[\\*\\#]+\", \"\",text) # 특수기호 '*', '#'\n",
    "    return text\n",
    "\n",
    "other_characters = [getOtherCharacters(it) for it in wiki_df['text']]\n",
    "other_characters = set(flattenList(other_characters))\n",
    "other_characters = (''.join(other_characters))"
   ]
  },
  {
   "cell_type": "code",
   "execution_count": 75,
   "metadata": {},
   "outputs": [],
   "source": [
    "def removeOtherCharacters(row, isTrain):\n",
    "    question = train_df['question'][row]\n",
    "    start = train_df['answers'][row]['answer_start'][0]\n",
    "    answer = train_df['answers'][row]['text'][0]\n",
    "    text = train_df['context'][row]\n",
    "\n",
    "    th = 0\n",
    "    idx = 0\n",
    "    while idx > -1:\n",
    "        idx = text.find(answer, idx)\n",
    "        if idx > -1:\n",
    "            th += 1\n",
    "            if idx == start:\n",
    "                break\n",
    "            idx += 1\n",
    "\n",
    "    text = re.sub(f'[{other_characters}]', \"\", text)\n",
    "    text = text.replace('\\\\n', ' ').replace('\\n', ' ')\n",
    "    text = ' '.join(text.split())\n",
    "    \n",
    "    question = re.sub(f'[{other_characters}]', \"\", question)\n",
    "    question = question.replace('\\\\n', ' ').replace('\\n', ' ')\n",
    "    question = ' '.join(question.split())\n",
    "\n",
    "    i = 0\n",
    "    idx = 0\n",
    "    while idx > -1:\n",
    "        idx = text.find(answer, idx)\n",
    "        if idx > -1:\n",
    "            i += 1\n",
    "            if (i == th):\n",
    "                break\n",
    "            idx += 1\n",
    "\n",
    "    answer = train_df['answers'][row]\n",
    "    answer['answer_start'][0] = idx\n",
    "    \n",
    "    if isTrain:\n",
    "        train_df.loc[row, 'question'] = question\n",
    "        train_df.loc[row, 'context'] = text\n",
    "\n",
    "    else:\n",
    "        dev_df.loc[row, 'question'] = question\n",
    "        dev_df.loc[row, 'context'] = text\n",
    "    \n",
    "for row in train_df.itertuples():\n",
    "    i = row.Index\n",
    "    removeOtherCharacters(i, True)\n",
    "\n",
    "for row in dev_df.itertuples():\n",
    "    i = row.Index\n",
    "    removeOtherCharacters(i, False)"
   ]
  },
  {
   "cell_type": "code",
   "execution_count": 77,
   "metadata": {},
   "outputs": [
    {
     "name": "stderr",
     "output_type": "stream",
     "text": [
      "Saving the dataset (1/1 shards): 100%|██████████| 64359/64359 [00:00<00:00, 113778.07 examples/s]\n",
      "Saving the dataset (1/1 shards): 100%|██████████| 6014/6014 [00:00<00:00, 113671.69 examples/s]\n"
     ]
    }
   ],
   "source": [
    "train_dataset = Dataset.from_dict(train_df)\n",
    "dev_dataset = Dataset.from_dict(dev_df)\n",
    "dataset = DatasetDict({\"train\":train_dataset, \"validation\":dev_dataset})\n",
    "\n",
    "dataset.save_to_disk(\"./data/train_preprocessed/\")"
   ]
  }
 ],
 "metadata": {
  "kernelspec": {
   "display_name": "base",
   "language": "python",
   "name": "python3"
  },
  "language_info": {
   "codemirror_mode": {
    "name": "ipython",
    "version": 3
   },
   "file_extension": ".py",
   "mimetype": "text/x-python",
   "name": "python",
   "nbconvert_exporter": "python",
   "pygments_lexer": "ipython3",
   "version": "3.10.13"
  }
 },
 "nbformat": 4,
 "nbformat_minor": 2
}
